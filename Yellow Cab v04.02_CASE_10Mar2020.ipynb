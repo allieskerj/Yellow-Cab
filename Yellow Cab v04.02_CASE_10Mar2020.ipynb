{
 "cells": [
  {
   "cell_type": "markdown",
   "metadata": {},
   "source": [
    "----------\n",
    "# Yellow Cab (Advisory Case for Accountants)\n",
    "Version 04.02 - test\n"
   ]
  },
  {
   "cell_type": "markdown",
   "metadata": {},
   "source": [
    "**Author Information:**\n",
    "<br>Jessen Hobson, Ph.D. & Vic Anand, Ph.D.\n",
    "<br>Department of Accountancy – University of Illinois at Urbana-Champaign \n",
    "<br>(We thank The Deloitte Foundation for their generous financial support in preparation of this case.)"
   ]
  },
  {
   "cell_type": "markdown",
   "metadata": {},
   "source": [
    "---------------\n",
    "## 0. Learning Objectives"
   ]
  },
  {
   "cell_type": "markdown",
   "metadata": {},
   "source": [
    "Python\n",
    "* Store and access data via Pandas and CSV\n",
    "* Clean data in Pandas\n",
    "* Descriptive analytics\n",
    "* Predictive analytics using regression\n",
    "* Story telling from a business analytics point of view\n",
    "\n",
    "Tableau\n",
    "* Descriptive analytics: Visualization via box plots, scatter plots, and maps\n",
    "* Story telling from a business analytics point of view"
   ]
  },
  {
   "cell_type": "markdown",
   "metadata": {},
   "source": [
    "| **0. Deliverables:**   |\n",
    "|:------------------------------------------------------------------------------|\n",
    "| **No deliverables for this section** |"
   ]
  },
  {
   "cell_type": "markdown",
   "metadata": {},
   "source": [
    "-----------\n",
    "## 1. Introduction"
   ]
  },
  {
   "cell_type": "markdown",
   "metadata": {},
   "source": [
    "Yellow Cab Chicago has hired your small accounting and consulting firm to help them reduce costs and increase revenues. Like many traditional cab companies, Yellow Cab is feeling significant pressure from ride-hailing companies like Lyft and Uber. You are a recent graduate and new to the firm and are excited to learn you will have a role in this engagement. Your excitement quickly turns to apprehension, however, when the partner pulls you into her office.\n",
    "\n",
    "“Thanks for meeting with me,” she says. “This new engagement is really important to the firm, and I am happy you are on board. I heard that you have some data analytics skills. I would like you to see if there is any data out there that might help us learn more about the situation Yellow Cab is in and if there are any interesting revenue opportunities out there that we have not thought of. We need to know more about what Yellow Cab is facing and were they should be focusing their efforts?”\n",
    "\n",
    "You are a little overwhelmed, but after a quick internet search you find out that the city of Chicago makes a lot of data about cab trips publicly available. This is just what you need!"
   ]
  },
  {
   "cell_type": "markdown",
   "metadata": {},
   "source": [
    "### 1.1 Prerequisites"
   ]
  },
  {
   "cell_type": "markdown",
   "metadata": {},
   "source": [
    "Python\n",
    "* You should have access to Jupyter notebooks (or JupyterLab) running Python 3. \n",
    "    * I recommend you download and install the Anaconda distribution of Python. This is a premiere distribution of Python that is designed for data science. It includes a Jupyter notebook server and JupyterLab.\n",
    "    * If you want to work on the cloud, you can try Microsoft Azure Notebooks. This is a free service from Microsoft that you can run in a browser.\n",
    "* You will need access to the following Python packages.\n",
    "    * pandas\n",
    "    * numpy\n",
    "    * statsmodels\n",
    "\n",
    "Tableau\n",
    "* You will need a local copy of Tableau. Obtain a free license here: https://www.tableau.com/academic/students. Obtain the license before starting the case to prevent delay since it can take 5-7 days to get your application approved.\n",
    "* Self-training materials for Tableau are listed below when Tableau is introduced.\n"
   ]
  },
  {
   "cell_type": "markdown",
   "metadata": {},
   "source": [
    "### 1.2 General Instrucions"
   ]
  },
  {
   "cell_type": "markdown",
   "metadata": {},
   "source": [
    "Your work will be done in this Jupyter Notebook template and in Tableau. When you are asked to describe, explain, or write something, do so in a Markdown Cell in this Jupyter Notebook, unless instructed otherwise. You are asked to do this a lot, so be efficient, concise, and direct."
   ]
  },
  {
   "cell_type": "markdown",
   "metadata": {},
   "source": [
    "| **1. Deliverables:**   |\n",
    "|:------------------------------------------------------------------------------|\n",
    "| **No deliverables for this section** |"
   ]
  },
  {
   "cell_type": "markdown",
   "metadata": {},
   "source": [
    "------------------\n",
    "## 2. Load Relevant Packages and Dependencies"
   ]
  },
  {
   "cell_type": "code",
   "execution_count": 2,
   "metadata": {},
   "outputs": [],
   "source": [
    "# database tool\n",
    "import pandas as pd \n",
    "import numpy as np\n",
    "# to show graphs inline\n",
    "%matplotlib inline \n",
    "# disable an unneeded warning\n",
    "pd.options.mode.chained_assignment = None  # default='warn'\n",
    "# import statsmodels formula\n",
    "import statsmodels.formula.api as smf"
   ]
  },
  {
   "cell_type": "markdown",
   "metadata": {},
   "source": [
    "--------------\n",
    "## 3. Load and Look at the Data"
   ]
  },
  {
   "cell_type": "markdown",
   "metadata": {},
   "source": [
    "Accompanying the case is a CSV file containing 2,000,000 rows of actual cab data from the City of Chicago. Load the data from the CSV file into a DataFrame using the Pandas package. Look at the columns and their data types. How many rows and columns does the DataFrame have? Do any of the DataFrame columns have null values? What columns seem the most interesting for analysis and what are you going to have to do to clean them?"
   ]
  },
  {
   "cell_type": "code",
   "execution_count": 3,
   "metadata": {},
   "outputs": [],
   "source": [
    "# Load data\n"
   ]
  },
  {
   "cell_type": "markdown",
   "metadata": {},
   "source": [
    "| **3. Deliverables:**   |\n",
    "|:------------------------------------------------------------------------------|\n",
    "| 3a. In your Jupyter Notebook list the number of rows and columns. |\n",
    "| 3b. In your Jupyter Notebook use a Markdown cell to discuss whether any of the DataFrame columns have null values? Which ones?  |\n",
    "| 3c. Which columns seem the most interesting for analysis and what are you going to have to do to clean them?  |\n",
    "| 3d. The column `trip_total` is the total amount paid by the customer to the taxi driver. What is your best guess as to how they actually computed `trip_total` using the other columns in the table? Do a calculation to make sure this is what they did. Is your calculation based upon the other columns in the DataFrame close to `trip_total`? |"
   ]
  },
  {
   "cell_type": "code",
   "execution_count": 4,
   "metadata": {},
   "outputs": [],
   "source": [
    "# Deliverable 3 Response:\n"
   ]
  },
  {
   "cell_type": "markdown",
   "metadata": {},
   "source": [
    "----------------\n",
    "## 4. Clean Data"
   ]
  },
  {
   "cell_type": "markdown",
   "metadata": {},
   "source": [
    "You will clean the data in three steps."
   ]
  },
  {
   "cell_type": "markdown",
   "metadata": {},
   "source": [
    "### 4.1 Eliminate bad data"
   ]
  },
  {
   "cell_type": "markdown",
   "metadata": {},
   "source": [
    "Like any kind of real data, there are mistakes and omissions in our table. Let’s start by removing null values from key columns of interest. We will not remove all null values, because that would eliminate too much data. Rather, we will think strategically about what variables (or columns) we really care about, and eliminate any nulls in those columns."
   ]
  },
  {
   "cell_type": "markdown",
   "metadata": {},
   "source": [
    "| **4.1 Deliverables:**   |\n",
    "|:------------------------------------------------------------------------------|\n",
    "| 4.1a Delete trips with NaN mileage and NaN seconds and provide a very brief description for why we deleted them. |\n",
    "| 4.1b. Delete trips with no entry for cost and with \\$0 of lower cost and provide a very brief description for why we deleted them.  |"
   ]
  },
  {
   "cell_type": "code",
   "execution_count": 9,
   "metadata": {},
   "outputs": [],
   "source": [
    "# Deliverable 4.1 Response:\n"
   ]
  },
  {
   "cell_type": "markdown",
   "metadata": {},
   "source": [
    "### 4.2 Make DateTime Objects"
   ]
  },
  {
   "cell_type": "markdown",
   "metadata": {},
   "source": [
    "Next, you will make sure we can measure dates and times. "
   ]
  },
  {
   "cell_type": "markdown",
   "metadata": {},
   "source": [
    "| **4.2 Deliverables:**   |\n",
    "|:------------------------------------------------------------------------------|\n",
    "| 4.2a Convert the columns `trip_start_timestamp` and `trip_end_timestamp` to Pandas datetime objects and store them in new columns named `trip_start` and `trip_end`, respectively. |\n",
    "| 4.2b Create five new columns for the year, month, day, hour, and day of the week respectively (use the start of the trip, since that is something the taxi driver can control). Please do not use `day_name`, to ensure consistency and ease of grading.|\n",
    "| 4.2c. List the number of columns and rows of the DataFrame. |"
   ]
  },
  {
   "cell_type": "code",
   "execution_count": 12,
   "metadata": {},
   "outputs": [],
   "source": [
    "# Deliverable 4.2 Response:\n"
   ]
  },
  {
   "cell_type": "markdown",
   "metadata": {},
   "source": [
    "### 4.3 Deal with Outliers"
   ]
  },
  {
   "cell_type": "markdown",
   "metadata": {},
   "source": [
    "#### 4.3.1 Box Plots"
   ]
  },
  {
   "cell_type": "markdown",
   "metadata": {},
   "source": [
    "The main focus in outliers is getting `trip_total` right, since you are trying to understand how Yellow Cab can make more money. `trip_seconds` and `trip_duration` also have outliers, which you could look at, but you will focus on `trip_total` and `tips`, since those are the key variables of interest. There is no one right way to find outliers. So, our approach will be to look at some plots of `trip_total` and `tips` to see if we have a problem with outliers for these columns and to see how to fix them. \n",
    "\n",
    "Specifically, you will first use box plots to look for outliers. Box plots are helpful for finding outliers because they display the distribution of the observations (the data) and, in one picture, display the minimum, first quartile, median, third quartile, and maximum. Thus, the graph is as high as the highest data point. The box extends from the Q1 (25% of the data) to Q3 (75% of the data) quartile values of the data, with a line at the median (Q2). The position of the whiskers is set by default to 1.5 * IQR (IQR = Q3 - Q1) from the edges of the box. Outlier points are those past the end of the whiskers (see useful picture here: http://www.physics.csbsju.edu/stats/box2.html). \n",
    " \n",
    "To save time, we will start you off. First, we will use a box plot in python to look at `trip_total` using very simple code in Pandas. Run the code below:\n",
    "```python\n",
    "df.boxplot(column='trip_total')\n",
    "```"
   ]
  },
  {
   "cell_type": "markdown",
   "metadata": {},
   "source": [
    "| **4.3.1a-f Deliverables:**   |\n",
    "|:------------------------------------------------------------------------------|\n",
    "| 4.3.1a Plot a box plot using the code above for `trip_total`.|\n",
    "| 4.3.1b Plot a box plot using the code above for `tips`. |\n",
    "| 4.3.1c What do you learn from these plots? Where are the whiskers and box? What does this mean? |\n",
    "| 4.3.1d Create a new box plot of `trip_total`, but this time use only values less than \\$200. Does this change or confirm what you learned (or didn't learn) above? Explain. |\n",
    "| 4.3.1e Create a new box plot of `trip_total`, but this time use only values less than \\$75. Does this change or confirm what you learned (or didn't learn) above? Explain. |\n",
    "| 4.3.1f Compute the mean and median value of `trip_total` for all trips. How is this consistent with what you learned above? That is, are the mean and median the same? Why or why not? What does this mean about potential outliers? Explain.  |"
   ]
  },
  {
   "cell_type": "markdown",
   "metadata": {},
   "source": [
    "Notice that you have focused on the variable `trip_total`. This is your main variable of interest since you are concerned with how Yellow Cab can make more money. However, it is possible that expensive trips take a considerable amount of time. Therefore, you might want to look at the distribution of trip duration. Do so using the variable `trip_seconds`. "
   ]
  },
  {
   "cell_type": "markdown",
   "metadata": {},
   "source": [
    "| **4.3.1g-j Deliverables:**   |\n",
    "|:------------------------------------------------------------------------------|\n",
    "| 4.3.1g What are the mean and median values of `trip_seconds` for all trips, displayed as minutes? What does this tell you about outliers, if anything? |\n",
    "| 4.3.1h Create a box plot for `trip_seconds`. This plot will look like the one you created in 4.3.1a and will be hard to interpret. Narrow the range of values and create another histogram. Continue to create new histograms until you have a meaningful one. Keep this most meaningful one. | \n",
    "| 4.3.1i Interpret your final histogram for `trip_seconds`. Then state which range of this variable you want to keep in this analysis, and which you want to exclude as outliers. Specify a range of values (i.e. a minimum and a maximum). Justify your choice. There is no correct answer. |\n",
    "| 4.3.1j What are the mean and median values of `trip_seconds` for trips less than half an hour, displayed as minutes? How different is this from the mean and median for all trips? Why?|"
   ]
  },
  {
   "cell_type": "code",
   "execution_count": 16,
   "metadata": {},
   "outputs": [],
   "source": [
    "# Deliverable 4.3.1a-j Response:\n"
   ]
  },
  {
   "cell_type": "markdown",
   "metadata": {},
   "source": [
    "#### 4.3.2 Joint Plots"
   ]
  },
  {
   "cell_type": "markdown",
   "metadata": {},
   "source": [
    "Drawing box plots helped you get rid of some really high trip fares and some unreasonably long trips. What you really want is to keep all legitimate trips and eliminate mistakes. This is hard to do and you really should use more than one perspective to examine the issue. So, as a second way to examine outliers use a joint plot. Joint plots are plots of one variable against another. A scatter plot is an example of a joint plot with which you are probably familiar. These can be helpful because they can help us examine the relationship between two variables in our dataset. Consider `trip_total` and `trip_seconds`. How would you expect these to be related? \n",
    "\n",
    "You would expect the cost of the cab trip (`trip_total`) and the amount of the time the trip takes (`trip_seconds`) to be positively, linearly correlated. That is, as the trip duration increases the trip cost should also increase at an even rate. \n",
    "\n",
    "Next, you will look at some scatter plots of `trip_total` on the y-axis and `trip_seconds` on the x-axis. As you compare the cost of the trip to how long it took, you will learn something about trips that seem unreasonable. You will then finalize the dataset and save it for analysis."
   ]
  },
  {
   "cell_type": "markdown",
   "metadata": {},
   "source": [
    "| **4.3.2a-e Deliverables:**   |\n",
    "|:------------------------------------------------------------------------------|\n",
    "| 4.3.2a Use the following basic code `df.plot.scatter(x='trip_total', y='trip_seconds')` to plot a scatter plots of `trip_seconds` by `trip_total`. First, what does this graph tell you--that is, what is it doing? Second, do you see any problems with this graph? Are `trip_seconds` and `trip_total` positively correlated like we would expect? If not, what is the problem? |\n",
    "| 4.3.2b Next, draw another plot that eliminates the outliers as you did above. Specifically, `trip_seconds` is strictly less than 1800 and `trip_total` is strictly less than 75. Does this look better? Explain? Do you have recommendation for how to make this even better? |\n",
    "| 4.3.2c Draw one more plot. This time restrict `trip_total` to be striclty greater thn 3.00 and strictly lower that 75.00. Additionally, restrict `trip_seconds` to be stricly greater than 58.00 and stictly less than < 3600.00. Does this plot look better? Explain.|\n",
    "| 4.3.2d How many rows and columns does this new DataFrame have? |\n",
    "| 4.3.2e Save this DF as a pickle file for use in analysis later. Specifically, once you have all of this correct to this point, don't go back and run it again, just load the pickle file. |"
   ]
  },
  {
   "cell_type": "code",
   "execution_count": 26,
   "metadata": {},
   "outputs": [],
   "source": [
    "# Deliverable 4.3.2a-e Response:\n"
   ]
  },
  {
   "cell_type": "markdown",
   "metadata": {},
   "source": [
    "----------------------\n",
    "# Note: We recommend you run the code above until you get it right and then never run it again. Thus, when you are ready to do the work below, just load the pickle file that you just created above. >>Fight the urge to run all of the code each time!<<\n",
    "-------------------------"
   ]
  },
  {
   "cell_type": "markdown",
   "metadata": {},
   "source": [
    "## 5. Descriptive Analytics - Explore the Data"
   ]
  },
  {
   "cell_type": "markdown",
   "metadata": {},
   "source": [
    "Let’s take our first steps to understanding what the data is telling us. There are many ways to do descriptive analytics. For example, we could use groupby and pivot tables in Pandas. One popular method is to visualize the data. Again, we could do this in Python. However, one popular tool for visualization is Tableau. Let’s use Tableau to visualize some of the basic features of our data. \n",
    "\n",
    "You will need to have the free version of Tableau downloaded to your computer. If you have never used Tableau, you may wish to read or watch some tutorials. Some helpful resources are listed below:\n",
    "* Official Tableau training videos: http://www.tableau.com/learn/training. Of the videos at this site, you may find the following particularly useful:\n",
    "    * Getting Started: http://www.tableau.com/learn/tutorials/on-demand/getting-started\n",
    "    * Understanding The Tableau Interface: http://www.tableau.com/learn/tutorials/on-demand/tableau-interface\n",
    "    * Getting Started with Data: http://www.tableau.com/learn/tutorials/on-demand/getting-started-data\n",
    "* A website with a Tableau tutorial (no videos): https://www.tutorialspoint.com/tableau/tableau_get_started.htm\n",
    "\n",
    "All analysis that we ask you to do in Tableau will be submitted in a Tableau Packaged Workbook (.twbx). Thus, you do not need to reproduce it here. You must have one sheet per plot. Make sure they are labeled well and are easy to find and comprehend. Thus, appropriately and clearly label the sheets and include captions when necessary (http://onlinehelp.tableau.com/current/pro/desktop/en-us/viewparts_captions.html)."
   ]
  },
  {
   "cell_type": "markdown",
   "metadata": {},
   "source": [
    "### 5.1 Bar Graphs of Trip Frequency"
   ]
  },
  {
   "cell_type": "markdown",
   "metadata": {},
   "source": [
    "A bar graph is “...a chart or graph that presents categorical data with rectangular bars with heights or lengths proportional to the values that they represent. The bars can be plotted vertically or horizontally. A vertical bar chart is sometimes called a line graph (https://en.wikipedia.org/wiki/Bar_chart).” \n",
    "\n",
    "Graph in a bar graph four analyses—the number of trips by month, by day of the month, by day of the week, and by hour of the day."
   ]
  },
  {
   "cell_type": "markdown",
   "metadata": {},
   "source": [
    "| **5.1a-f Deliverables:**   |\n",
    "|:------------------------------------------------------------------------------|\n",
    "| 5.1a We have a lot of data, so, to make things more manageable for Tableau, subset your data so that you are only working with data from 2015. How many rows and columns does this new DataFrame have? Report this in your Jupyter Notebook. Export this new data to a CSV file to work with in Tableau. Open Tableau and connect to this new CSV file. |\n",
    "| 5.1b In Sheet 1 in Tableau create a bar graph for the number of trips by month. Using a caption on that same sheet, describe what you see and learn. Hint 1: Use the count of `trip_total`. Hint 2: Convert month to “discrete”. |\n",
    "| 5.1c In the next Sheet in Tableau, create a bar graph for the number of trips by the day of the month. Using a caption on that same sheet, describe what you see and learn. |\n",
    "| 5.1d In the next Sheet in Tableau, create a bar graph for the number of trips by the day of the week. Add an “Average with 95% Cl” line. Using a caption on that same sheet, describe what you see and learn. What is the average? What does this line mean? Which days of the week have statistically lower or higher number of trips? |\n",
    "| 5.1e In the next Sheet in Tableau, create a bar graph for the number of trips by the hour of the day. Show the label (amount) for only the lowest and highest hour. Using a caption on that same sheet, describe what you see and learn. |\n",
    "| 5.1f Look at hour of the day for just the weekend. In the next Sheet in Tableau create three vertical bar graphs for Friday, Saturday and Sunday, respectively. Show the number of trips by hour of the day within each of these three days. Using a caption on that same sheet, describe what you see and learn. |"
   ]
  },
  {
   "cell_type": "code",
   "execution_count": 32,
   "metadata": {},
   "outputs": [],
   "source": [
    "# Deliverable 5.1a Response (the rest of 5.1 is in Tableau):\n"
   ]
  },
  {
   "cell_type": "markdown",
   "metadata": {},
   "source": [
    "### 5.2 Visualizations of Trip Revenue"
   ]
  },
  {
   "cell_type": "markdown",
   "metadata": {},
   "source": [
    "We now know much more about when the taxi rides happen, but which ones are profitable? We don’t have expenses, but we do have trip revenue and tips. Let’s investigate which trips make the most money."
   ]
  },
  {
   "cell_type": "markdown",
   "metadata": {},
   "source": [
    "| **5.2a-c Deliverables:**   |\n",
    "|:------------------------------------------------------------------------------|\n",
    "| 5.2a In the next Sheet in Tableau, create a bar graph that shows the average `trip_total` and `tips` by day of the week. Using a caption on that same sheet, describe what you see and learn. |\n",
    "| 5.2b In the next Sheet in Tableau create any kind of graph that shows the average `trip_total` and `tips` by hour of the day and by weekend or weekday. Using a caption on that same sheet, describe what you see and learn. Note: for the rest of this case, assume the weekend consists of Friday, Saturday, and Sunday. Hint 1: You can edit the day of the week directly once you have pulled it into the working area by right clicking on the field or using the drop down menu and selecting “Edit in Shelf”. |\n",
    "| 5.2c Another cool thing to look at is revenue by type of payment. In the next Sheet in Tableau create any kind of graph that shows the average `trip_total` and `tips` by `payment_type`. Also, in this same graph, investigate whether weekend versus weekday matters. Finally, it is important to see how often these types of different payments happen. For example, `Disputes` actually look pretty profitable, but they probably don’t happen very much. Thus, in this same graph, add the frequency of each category of transaction. Using a caption on that same sheet, describe what you see and learn. Hint 1: Put a count of the transactions in the graph to show frequency of each category. |"
   ]
  },
  {
   "cell_type": "code",
   "execution_count": 36,
   "metadata": {},
   "outputs": [],
   "source": [
    "# Deliverable 5.2 Response is in Tableau:\n"
   ]
  },
  {
   "cell_type": "markdown",
   "metadata": {},
   "source": [
    "### 5.3 Visualizations of Trip Revenue by Geography"
   ]
  },
  {
   "cell_type": "markdown",
   "metadata": {},
   "source": [
    "So far we have learned about when trips are happening and how profitable trips are by time of day and day of week and payment method. Another thing a cab company can control is where they go to pick up people. Let’s investigate revenue by location."
   ]
  },
  {
   "cell_type": "markdown",
   "metadata": {},
   "source": [
    "| **5.3a-d Deliverables:**   |\n",
    "|:------------------------------------------------------------------------------|\n",
    "| 5.3a In the next Sheet in Tableau, create a bar graph that shows the average `trip_total` by `pickup_community_area`. Sort this descending by average `trip_total`. Next, exclude null values (null for `pickup_community_area`) and any `pickup_community_area` with average revenue below the average. Using a caption on that same sheet, describe what you see and learn. Specifically, the `pickup_community_area` numbers are real locations in Chicago. Where are the top three locations? What do we learn from this? |\n",
    "| 5.3b Do this same analysis and discussion for average `tips`. |\n",
    "| 5.3c The beauty of Tableau is the ability to quickly and easily visualize what is happening. In the next sheet in Tableau, use `pickup_centroid_longitude` and `pickup_centriod_lattitude` to examine average `trip_total` and `tips`. Using a caption on that same sheet, describe what you see and learn. Hint 1: Move average `trip_total` and `tips` to color and size on the Marks area. |\n",
    "| 5.3d Let’s make this even more useful. Duplicate the Sheet you just finished and add a filter for `hour` and `day of the week`. Toggle through these several times (looking at different hour and day of week combinations) to see what else you can learn. Also, add a “Map Data Layer”. Pick one that helps you learn more about what is going on. Using a caption on that same sheet, describe what you see and learn. |"
   ]
  },
  {
   "cell_type": "code",
   "execution_count": 37,
   "metadata": {},
   "outputs": [],
   "source": [
    "# Deliverable 5.3 Response is in Tableau:\n"
   ]
  },
  {
   "cell_type": "markdown",
   "metadata": {},
   "source": [
    "---------------------\n",
    "## 6. Predictive Analytics - Regression"
   ]
  },
  {
   "cell_type": "markdown",
   "metadata": {},
   "source": [
    "We have learned a lot about what affects revenue, but we need to make sure these effects we have seen actually matter. That is, are the effects we have examined mere chance, or do they statistically significantly affect revenue? We will use regression to test this premise. You will run two regression analyses in python. There are many ways to do regression in Python. I suggest you pick one you like and stick with it. \n",
    "\n",
    "Run two regressions. The first regression predicts `trip_total` (the dependent variable) using `trip_seconds`, `trip_miles`, `credit`, `hour`, `month`, and `dayofweek`. The variable `credit` will need to be created. This variable takes a \"1\" if the transaction was on a credit card and a \"0\" otherwise. The variable is categorical rather than continuous and thus, must be treated as such in the model. That is, you cannot treat this variable as a continuous variable in your regressions. (You could also treat `hour`, `month`, and `dayofweek` as categorical, but they also have a continuous nature, so let’s just leave them as continuous.) For each regression, discuss each significant variable, and what that significant variable tells you (that is, interpret the coefficient). \n"
   ]
  },
  {
   "cell_type": "markdown",
   "metadata": {},
   "source": [
    "| **6.0a-b Deliverables:**   |\n",
    "|:------------------------------------------------------------------------------|\n",
    "| 6.0a Run the regression discussed above using `trip_total` as the dependent variable. Include the discussion asked for above. Use all of the data (not just 2015). |\n",
    "| 6.0b Run the regression discussed above using `tips` as the dependent variable. Include the discussion asked for above. Use all of the data (not just 2015). |"
   ]
  },
  {
   "cell_type": "code",
   "execution_count": 38,
   "metadata": {},
   "outputs": [],
   "source": [
    "# Deliverable 6.0 Response:\n"
   ]
  },
  {
   "cell_type": "markdown",
   "metadata": {},
   "source": [
    "----------------------------\n",
    "## 7. Your Recommendation"
   ]
  },
  {
   "cell_type": "markdown",
   "metadata": {},
   "source": [
    "The analysis we have asked you to do has given you many tools to use in analyzing this data. Using Tableau and/or Python, use descriptive and predictive analytics, as has been modeled above, to make recommendations to your supervisor for the Yellow Cab Company client. \n",
    "\n",
    "This portion of the case will be worth a significant part of your grade for this case. "
   ]
  },
  {
   "cell_type": "markdown",
   "metadata": {},
   "source": [
    "| **7.0 Deliverables:**   |\n",
    "|:------------------------------------------------------------------------------|\n",
    "| Give a recommendation to your supervisor for Yellow Cab about how they can maximize their revenue. Make sure this recommendation is supported with analysis and narrative explanation. Good answers will have more than one analysis (but only one recommendation). Exceptional answers will use descriptive and predictive analyses and both Python and Tableau, will be clearly worded and convincing, and will have insights not explored above.  |"
   ]
  },
  {
   "cell_type": "code",
   "execution_count": 38,
   "metadata": {},
   "outputs": [],
   "source": [
    "# Deliverable 7.0 Response:\n"
   ]
  }
 ],
 "metadata": {
  "kernelspec": {
   "display_name": "Python 3",
   "language": "python",
   "name": "python3"
  },
  "language_info": {
   "codemirror_mode": {
    "name": "ipython",
    "version": 3
   },
   "file_extension": ".py",
   "mimetype": "text/x-python",
   "name": "python",
   "nbconvert_exporter": "python",
   "pygments_lexer": "ipython3",
   "version": "3.7.3"
  }
 },
 "nbformat": 4,
 "nbformat_minor": 4
}
